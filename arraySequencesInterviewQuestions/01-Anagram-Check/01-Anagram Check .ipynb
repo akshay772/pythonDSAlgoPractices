{
 "cells": [
  {
   "cell_type": "markdown",
   "metadata": {},
   "source": [
    "# Anagram Check\n",
    "\n",
    "## Problem\n",
    "\n",
    "Given two strings, check to see if they are anagrams. An anagram is when the two strings can be written using the exact same letters (so you can just rearrange the letters to get a different phrase or word). \n",
    "\n",
    "For example:\n",
    "\n",
    "    \"public relations\" is an anagram of \"crap built on lies.\"\n",
    "    \n",
    "    \"clint eastwood\" is an anagram of \"old west action\"\n",
    "    \n",
    "**Note: Ignore spaces and capitalization. So \"d go\" is an anagram of \"God\" and \"dog\" and \"o d g\".**\n",
    "\n",
    "## Solution\n",
    "\n",
    "Fill out your solution below:"
   ]
  },
  {
   "cell_type": "code",
   "execution_count": 10,
   "outputs": [
    {
     "name": "stdout",
     "output_type": "stream",
     "text": [
      "/home/aym/anaconda3/envs/py3/bin/python\r\n"
     ]
    }
   ],
   "source": [
    "!which python"
   ],
   "metadata": {
    "collapsed": false
   }
  },
  {
   "cell_type": "code",
   "execution_count": 68,
   "outputs": [],
   "source": [
    "import re\n",
    "\n",
    "def removeNonAlphaNumeric(text):\n",
    "    \"\"\"\n",
    "    Remove spaces, punctuations and returns lowercase text\n",
    "    :param text:\n",
    "    :return text:\n",
    "    \"\"\"\n",
    "    text = text.replace(\" \", \"\")\n",
    "    text = text.replace(\".\", \"\")\n",
    "    text = re.sub('[^a-zA-Z0-9 \\n\\.]', '', text)\n",
    "    text = text.lower()\n",
    "\n",
    "    return text\n",
    "\n",
    "def equalLength(text, anotherText):\n",
    "    \"\"\"\n",
    "    Compares the length of text with anotherText and return a boolean value\n",
    "    :param text:\n",
    "    :param anotherText:\n",
    "    :return boolean:\n",
    "    \"\"\"\n",
    "    if len(text) == len(anotherText):\n",
    "        return True\n",
    "    else:\n",
    "        return False"
   ],
   "metadata": {
    "collapsed": false
   }
  },
  {
   "cell_type": "code",
   "execution_count": 73,
   "metadata": {},
   "outputs": [],
   "source": [
    "def anagram(text, anotherText):\n",
    "    \"\"\"\n",
    "    Sort the two given strings and compare, if they are equal then they are anagram of each other.\n",
    "\n",
    "    Time Complexity: O(N * logN), For sorting.\n",
    "    Auxiliary Space: O(1) as it is using constant extra space\n",
    "\n",
    "    :param text:\n",
    "    :param anotherText:\n",
    "    :return boolean:\n",
    "    \"\"\"\n",
    "    text = removeNonAlphaNumeric(text)\n",
    "    anotherText = removeNonAlphaNumeric(anotherText)\n",
    "    if sorted(text) == sorted(anotherText):\n",
    "        return True\n",
    "    else:\n",
    "        return False\n",
    "\n",
    "def anagram2(text, anotherText):\n",
    "    \"\"\"\n",
    "    The idea is based in an assumption that the set of possible characters in both strings is small. that the\n",
    "    characters are stored using 8 bit and there can be 256 possible characters.\n",
    "\n",
    "    So count the frequency of the characters and if the frequency of characters in both strings are the same,\n",
    "    they are anagram of each other.\n",
    "\n",
    "    Time Complexity: O(n)\n",
    "    Auxiliary Space: O(256) i.e. O(1) for constant space.\n",
    "\n",
    "    :param text:\n",
    "    :param anotherText:\n",
    "    :return boolean:\n",
    "    \"\"\"\n",
    "    text = removeNonAlphaNumeric(text)\n",
    "    anotherText = removeNonAlphaNumeric(anotherText)\n",
    "\n",
    "    if not equalLength(text, anotherText):\n",
    "        return False\n",
    "\n",
    "    numOfChars = 256\n",
    "\n",
    "    charsCountText = [0] * numOfChars\n",
    "    charsCountAnotherText = [0] * numOfChars\n",
    "\n",
    "    for i in text:\n",
    "        charsCountText[ord(i)] += 1\n",
    "    for i in anotherText:\n",
    "        charsCountAnotherText[ord(i)] += 1\n",
    "\n",
    "    for i in range(numOfChars):\n",
    "        if charsCountText[i] != charsCountAnotherText[i]:\n",
    "            return False\n",
    "\n",
    "    return True\n",
    "\n",
    "def anagram3(text, anotherText):\n",
    "    text = removeNonAlphaNumeric(text)\n",
    "    anotherText = removeNonAlphaNumeric(anotherText)\n",
    "\n",
    "    \"\"\"\n",
    "    The above can be modified to use only one count array instead of two. Increment the value in count array for\n",
    "    characters in str1 and decrement for characters in str2. Finally, if all count values are 0, then the two strings\n",
    "    are anagram of each other.\n",
    "\n",
    "    Time Complexity: O(n)\n",
    "    Auxiliary Space: O(256) i.e. O(1), As constant space is used\n",
    "\n",
    "    :param text:\n",
    "    :param anotherText:\n",
    "    :return:\n",
    "    \"\"\"\n",
    "    text = removeNonAlphaNumeric(text)\n",
    "    anotherText = removeNonAlphaNumeric(anotherText)\n",
    "\n",
    "    if not equalLength(text, anotherText):\n",
    "        return False\n",
    "\n",
    "    numOfChars = 256\n",
    "    charCount = [0] * numOfChars\n",
    "\n",
    "    for i in range(len(text)):\n",
    "        charCount[ord(text[i]) - ord('a')] += 1\n",
    "        charCount[ord(anotherText[i]) - ord('a')] -= 1\n",
    "\n",
    "    if any(charCount):\n",
    "        return False\n",
    "\n",
    "    return True\n",
    "\n",
    "def anagram4(text, anotherText):\n",
    "    \"\"\"\n",
    "    The idea is a modification of the above approach where instead of creating an array of 256 characters HashMap is\n",
    "    used to store characters and count of characters in HashMap. Idea is to put all characters of one String in\n",
    "    HashMap and reduce them as they are encountered while looping over other the string.\n",
    "\n",
    "    Time Complexity: O(N)\n",
    "    Auxiliary Space: O(1), constant space is used\n",
    "\n",
    "    :param text:\n",
    "    :param anotherText:\n",
    "    :return boolean:\n",
    "    \"\"\"\n",
    "    text = removeNonAlphaNumeric(text)\n",
    "    anotherText = removeNonAlphaNumeric(anotherText)\n",
    "\n",
    "    if not equalLength(text, anotherText):\n",
    "        return False\n",
    "\n",
    "    map = {}\n",
    "\n",
    "    for i in range(len(text)):\n",
    "        if text[i] in map:\n",
    "            map[text[i]] += 1\n",
    "        else:\n",
    "            map[text[i]] = 1\n",
    "\n",
    "    for i in range(len(anotherText)):\n",
    "        if anotherText[i] in map:\n",
    "            map[anotherText[i]] -= 1\n",
    "        else:\n",
    "            return False\n",
    "\n",
    "    if any(map.values()):\n",
    "        return False\n",
    "\n",
    "    return True"
   ]
  },
  {
   "cell_type": "code",
   "execution_count": 74,
   "outputs": [
    {
     "data": {
      "text/plain": "True"
     },
     "execution_count": 74,
     "metadata": {},
     "output_type": "execute_result"
    }
   ],
   "source": [
    "anagram4('Abcd.123', 'a1B2C3d')"
   ],
   "metadata": {
    "collapsed": false
   }
  },
  {
   "cell_type": "code",
   "execution_count": 71,
   "metadata": {},
   "outputs": [
    {
     "data": {
      "text/plain": "True"
     },
     "execution_count": 71,
     "metadata": {},
     "output_type": "execute_result"
    }
   ],
   "source": [
    "anagram('dog','god')"
   ]
  },
  {
   "cell_type": "code",
   "execution_count": 72,
   "outputs": [
    {
     "name": "stdout",
     "output_type": "stream",
     "text": [
      "dog\n",
      "god\n"
     ]
    },
    {
     "data": {
      "text/plain": "True"
     },
     "execution_count": 72,
     "metadata": {},
     "output_type": "execute_result"
    }
   ],
   "source": [
    "anagram4('dog','god')"
   ],
   "metadata": {
    "collapsed": false
   }
  },
  {
   "cell_type": "code",
   "execution_count": 18,
   "metadata": {},
   "outputs": [
    {
     "data": {
      "text/plain": "True"
     },
     "execution_count": 18,
     "metadata": {},
     "output_type": "execute_result"
    }
   ],
   "source": [
    "anagram('clint eastwood','old west action')"
   ]
  },
  {
   "cell_type": "code",
   "execution_count": 50,
   "outputs": [
    {
     "data": {
      "text/plain": "True"
     },
     "execution_count": 50,
     "metadata": {},
     "output_type": "execute_result"
    }
   ],
   "source": [
    "anagram4('clint eastwood','old west action')"
   ],
   "metadata": {
    "collapsed": false
   }
  },
  {
   "cell_type": "code",
   "execution_count": 8,
   "metadata": {},
   "outputs": [
    {
     "data": {
      "text/plain": "False"
     },
     "execution_count": 8,
     "metadata": {},
     "output_type": "execute_result"
    }
   ],
   "source": [
    "anagram('aa','bb')"
   ]
  },
  {
   "cell_type": "code",
   "execution_count": 51,
   "outputs": [
    {
     "data": {
      "text/plain": "False"
     },
     "execution_count": 51,
     "metadata": {},
     "output_type": "execute_result"
    }
   ],
   "source": [
    "anagram4('aa','bb')"
   ],
   "metadata": {
    "collapsed": false
   }
  },
  {
   "cell_type": "markdown",
   "metadata": {},
   "source": [
    "# Test Your Solution\n",
    "Run the cell below to test your solution"
   ]
  },
  {
   "cell_type": "code",
   "execution_count": 76,
   "metadata": {},
   "outputs": [
    {
     "name": "stdout",
     "output_type": "stream",
     "text": [
      "ALL TEST CASES PASSED\n"
     ]
    }
   ],
   "source": [
    "\"\"\"\n",
    "RUN THIS CELL TO TEST YOUR SOLUTION\n",
    "\"\"\"\n",
    "from nose.tools import assert_equal\n",
    "\n",
    "class AnagramTest(object):\n",
    "    \n",
    "    def test(self,sol):\n",
    "        assert_equal(sol('go go go','gggooo'),True)\n",
    "        assert_equal(sol('abc','cba'),True)\n",
    "        assert_equal(sol('hi man','hi     man'),True)\n",
    "        assert_equal(sol('aabbcc','aabbc'),False)\n",
    "        assert_equal(sol('123','1 2'),False)\n",
    "        assert_equal(sol('Abcd.123', 'a1B2C3d'), True)\n",
    "        assert_equal(sol('Abcd.123', 'a1B2C4d'), False)\n",
    "        print(\"ALL TEST CASES PASSED\")\n",
    "\n",
    "# Run Tests\n",
    "t = AnagramTest()\n",
    "t.test(anagram)"
   ]
  },
  {
   "cell_type": "code",
   "execution_count": 77,
   "metadata": {},
   "outputs": [
    {
     "name": "stdout",
     "output_type": "stream",
     "text": [
      "ALL TEST CASES PASSED\n"
     ]
    }
   ],
   "source": [
    "t.test(anagram2)"
   ]
  },
  {
   "cell_type": "code",
   "execution_count": 78,
   "outputs": [
    {
     "name": "stdout",
     "output_type": "stream",
     "text": [
      "ALL TEST CASES PASSED\n"
     ]
    }
   ],
   "source": [
    "t.test(anagram3)"
   ],
   "metadata": {
    "collapsed": false
   }
  },
  {
   "cell_type": "code",
   "execution_count": 79,
   "outputs": [
    {
     "name": "stdout",
     "output_type": "stream",
     "text": [
      "ALL TEST CASES PASSED\n"
     ]
    }
   ],
   "source": [
    "t.test(anagram4)"
   ],
   "metadata": {
    "collapsed": false
   }
  },
  {
   "cell_type": "markdown",
   "metadata": {},
   "source": [
    "# Good Job!"
   ]
  }
 ],
 "metadata": {
  "kernelspec": {
   "display_name": "Python 3",
   "language": "python",
   "name": "python3"
  },
  "language_info": {
   "codemirror_mode": {
    "name": "ipython",
    "version": 3
   },
   "file_extension": ".py",
   "mimetype": "text/x-python",
   "name": "python",
   "nbconvert_exporter": "python",
   "pygments_lexer": "ipython3",
   "version": "3.8.10"
  }
 },
 "nbformat": 4,
 "nbformat_minor": 1
}
