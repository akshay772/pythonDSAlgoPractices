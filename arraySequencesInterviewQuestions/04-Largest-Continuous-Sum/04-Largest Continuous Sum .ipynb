{
 "cells": [
  {
   "cell_type": "markdown",
   "metadata": {},
   "source": [
    "# Largest Continuous Sum\n",
    "\n",
    "## Problem\n",
    "Given an array of integers (positive and negative) find the largest continuous sum. \n",
    "\n",
    "## Solution\n",
    "\n",
    "Fill out your solution below:"
   ]
  },
  {
   "cell_type": "code",
   "execution_count": 1,
   "metadata": {},
   "outputs": [],
   "source": [
    "def large_cont_sum(arr):\n",
    "    \"\"\"\n",
    "    Kadane’s algorithm is to maintain a variable max_ending_here that stores the maximum sum contiguous subarray\n",
    "    ending at current index and a variable max_so_far stores the maximum sum of contiguous subarray found so far,\n",
    "    Everytime there is a positive-sum value in max_ending_here compare it with max_so_far and update max_so_far if it\n",
    "    is greater than max_so_far\n",
    "\n",
    "    Time Complexity:  O(n).\\n\n",
    "    Space Complexity: O(1).\n",
    "\n",
    "    :param arr:\n",
    "    :return max_sum:\n",
    "    \"\"\"\n",
    "    maxEndingHere = 0\n",
    "    maxSoFar = 0\n",
    "    start = 0\n",
    "    end = 0\n",
    "    init = 0\n",
    "\n",
    "    for i in range(len(arr)):\n",
    "        maxEndingHere = maxEndingHere + arr[i]\n",
    "\n",
    "        if maxEndingHere > maxSoFar:\n",
    "            maxSoFar = maxEndingHere\n",
    "            start = init\n",
    "            end = i\n",
    "\n",
    "        if maxEndingHere < 0:\n",
    "            maxEndingHere = 0\n",
    "            init = i + 1\n",
    "\n",
    "    return maxSoFar"
   ]
  },
  {
   "cell_type": "code",
   "execution_count": 2,
   "metadata": {},
   "outputs": [
    {
     "data": {
      "text/plain": "29"
     },
     "execution_count": 2,
     "metadata": {},
     "output_type": "execute_result"
    }
   ],
   "source": [
    "large_cont_sum([1,2,-1,3,4,10,10,-10,-1])"
   ]
  },
  {
   "cell_type": "markdown",
   "metadata": {},
   "source": [
    "____\n",
    "Many times in an interview setting the question also requires you to report back the start and end points of the sum. Keep this in mind and see if you can solve that problem, we'll see it in the mock interview section of the course!"
   ]
  },
  {
   "cell_type": "markdown",
   "metadata": {},
   "source": [
    "# Test Your Solution"
   ]
  },
  {
   "cell_type": "code",
   "execution_count": 3,
   "metadata": {},
   "outputs": [
    {
     "name": "stdout",
     "output_type": "stream",
     "text": [
      "ALL TEST CASES PASSED\n"
     ]
    }
   ],
   "source": [
    "from nose.tools import assert_equal\n",
    "\n",
    "class LargeContTest(object):\n",
    "    def test(self,sol):\n",
    "        assert_equal(sol([1,2,-1,3,4,-1]),9)\n",
    "        assert_equal(sol([1,2,-1,3,4,10,10,-10,-1]),29)\n",
    "        assert_equal(sol([-1,1]),1)\n",
    "        print('ALL TEST CASES PASSED')\n",
    "        \n",
    "#Run Test\n",
    "t = LargeContTest()\n",
    "t.test(large_cont_sum)"
   ]
  },
  {
   "cell_type": "markdown",
   "metadata": {},
   "source": [
    "## Good Job!"
   ]
  }
 ],
 "metadata": {
  "kernelspec": {
   "display_name": "Python 3",
   "language": "python",
   "name": "python3"
  },
  "language_info": {
   "codemirror_mode": {
    "name": "ipython",
    "version": 3
   },
   "file_extension": ".py",
   "mimetype": "text/x-python",
   "name": "python",
   "nbconvert_exporter": "python",
   "pygments_lexer": "ipython3",
   "version": "3.8.10"
  }
 },
 "nbformat": 4,
 "nbformat_minor": 1
}
